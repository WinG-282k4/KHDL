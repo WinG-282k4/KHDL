{
 "cells": [
  {
   "cell_type": "markdown",
   "metadata": {},
   "source": [
    "Bài tập 1: \n",
    "a) HOàn thành hàm tính độ dài vecto"
   ]
  },
  {
   "cell_type": "code",
   "execution_count": 2,
   "metadata": {},
   "outputs": [
    {
     "name": "stdout",
     "output_type": "stream",
     "text": [
      "6.708203932499369\n"
     ]
    }
   ],
   "source": [
    "import numpy as np\n",
    "\n",
    "def compute_vecto_len(vector):\n",
    "    len_of_vecto =  np.sqrt(np.sum(np.square(vector)))\n",
    "    return len_of_vecto\n",
    "\n",
    "vecto = np.array([3, 6])\n",
    "print(compute_vecto_len(vecto))"
   ]
  },
  {
   "cell_type": "markdown",
   "metadata": {},
   "source": [
    "b) Phép tính tích vô hướng - Dot product"
   ]
  },
  {
   "cell_type": "code",
   "execution_count": 1,
   "metadata": {},
   "outputs": [
    {
     "name": "stdout",
     "output_type": "stream",
     "text": [
      "32\n"
     ]
    }
   ],
   "source": [
    "import numpy as np\n",
    "\n",
    "def dot_product(a, b):\n",
    "    result = np.sum(a * b)\n",
    "    return result\n",
    "\n",
    "a = np.array([1, 2, 3])\n",
    "b = np.array([4, 5, 6])\n",
    "\n",
    "print(dot_product(a, b))"
   ]
  },
  {
   "cell_type": "markdown",
   "metadata": {},
   "source": [
    "c) Nhân vecto với ma trận"
   ]
  },
  {
   "cell_type": "code",
   "execution_count": 10,
   "metadata": {},
   "outputs": [
    {
     "name": "stdout",
     "output_type": "stream",
     "text": [
      "[28 64 88]\n"
     ]
    }
   ],
   "source": [
    "import numpy as np\n",
    "\n",
    "def matrix_multi_vecto(matrix, vector):\n",
    "    result = np.dot(matrix, vector)\n",
    "    return result\n",
    "\n",
    "matrix = np.array([[1, 2, 3], [3, 4, 7], [5, 6, 9]])\n",
    "vector = np.array([2, \n",
    "                   4,\n",
    "                   6])\n",
    "\n",
    "print(matrix_multi_vecto(matrix, vector))"
   ]
  },
  {
   "cell_type": "markdown",
   "metadata": {},
   "source": [
    "d) Nhân ma trận với ma trận"
   ]
  },
  {
   "cell_type": "code",
   "execution_count": 3,
   "metadata": {},
   "outputs": [
    {
     "name": "stdout",
     "output_type": "stream",
     "text": [
      "[[ 25  34  43]\n",
      " [ 59  80 101]\n",
      " [ 79 110 141]]\n"
     ]
    }
   ],
   "source": [
    "import numpy as np\n",
    "\n",
    "def matrix_multi_matrix(a, b):\n",
    "    result = np.dot(a, b)\n",
    "    return result\n",
    "\n",
    "a = np.array([[1, 2, 3], [3, 4, 7], [5, 6, 9]])\n",
    "b = np.array([[2, 4, 6], [1, 3, 5], [7, 8, 9]])\n",
    "print(matrix_multi_matrix(a, b))"
   ]
  },
  {
   "cell_type": "markdown",
   "metadata": {},
   "source": [
    "e) Ma trận nghịch đảo\n",
    "Bt:\n",
    "Cho trước A = [ -2 6 ][8 -4]\n",
    "Determinant A = -2*-2 -6*8 = -40\n",
    "inverser A^-1 = 1/-40 * [-4 -6][-8 -2] = [1/10  3/20][1/5  1/20] "
   ]
  },
  {
   "cell_type": "code",
   "execution_count": 12,
   "metadata": {},
   "outputs": [
    {
     "name": "stdout",
     "output_type": "stream",
     "text": [
      "[[0.1  0.15]\n",
      " [0.2  0.05]]\n"
     ]
    }
   ],
   "source": [
    "def inverse_matrix(a):\n",
    "    result = np.linalg.inv(a)\n",
    "    return result\n",
    "\n",
    "a = np.array([[-2, 6], [8, -4]])\n",
    "print(inverse_matrix(a))"
   ]
  },
  {
   "cell_type": "markdown",
   "metadata": {},
   "source": [
    "Bài tập 2: Eigenvector và eigenvalues"
   ]
  },
  {
   "cell_type": "markdown",
   "metadata": {},
   "source": [
    "2.1) Eigenvector và eigenvalues\n",
    "Cho A = [0.9    0.2\n",
    "        0.1     0.8]\n",
    "\n",
    "det(A - lamda*I) = 0 \n",
    "        [0.9 - lamda    0.2\n",
    "        0.1             0.8 - lamda ] = 0\n",
    "        --> Eigenvalues: Lamda = 1\n",
    "                        hoặc Lamda = 0.7\n",
    "\n",
    "Với lamda = 1 ta có phương trình (A-I).v = 0\n",
    "--> v1 = 2*v2\n",
    "--> v = [2 1]\n",
    "Chuẩn hóa:\n",
    "|v| = sqrt(4 + 11) = sqrt(5)\n",
    "Vn = [2/sqrt(5) 1/sqrt(5)]\n",
    "\n",
    "Với lamda = 0.7 ta có phương trình (A - 0.7I).v =0\n",
    "--> 0.2v1 + 0.2v2 = 0\n",
    "--> v1 = -v2\n",
    "--> v = [-1     1]\n",
    "Chuẩn hóa:\n",
    "|v| = sqrt(2)\n",
    "Vn = [-1/sqrt(2)         1/sqrt(2)]"
   ]
  },
  {
   "cell_type": "code",
   "execution_count": 8,
   "metadata": {},
   "outputs": [
    {
     "name": "stdout",
     "output_type": "stream",
     "text": [
      "Eigenvalues : [1.  0.7]\n",
      "Eigenvectors :\n",
      "[[ 0.89442719 -0.70710678]\n",
      " [ 0.4472136   0.70710678]]\n"
     ]
    },
    {
     "data": {
      "text/plain": [
       "(array([1. , 0.7]),\n",
       " array([[ 0.89442719, -0.70710678],\n",
       "        [ 0.4472136 ,  0.70710678]]))"
      ]
     },
     "execution_count": 8,
     "metadata": {},
     "output_type": "execute_result"
    }
   ],
   "source": [
    "def compute_eigenvalues_eigenvector (a):\n",
    "\n",
    "    # Tính eigenvalues và eigenvectors\n",
    "    eigenvalues, eigenvectors = np.linalg.eig(a)\n",
    "\n",
    "    # Chuẩn hóa eigenvectors\n",
    "    normalized_eigenvectors = eigenvectors / np.linalg.norm(eigenvectors, axis=0)\n",
    "\n",
    "    # In kết quả\n",
    "    print(\"Eigenvalues :\", eigenvalues)\n",
    "    print(\"Eigenvectors :\")\n",
    "    print(normalized_eigenvectors)\n",
    "    return eigenvalues, normalized_eigenvectors\n",
    "\n",
    "A = np.array([[0.9, 0.2], [0.1, 0.8]])\n",
    "compute_eigenvalues_eigenvector(A)"
   ]
  },
  {
   "cell_type": "markdown",
   "metadata": {},
   "source": [
    "3. Cosine Similarity\n",
    "Cho trước\n",
    "x = [ 1   2   3   4]\n",
    "y = [ 1   0   3   0]\n",
    "cos(x,y) = (1 + 0 + 9 + 0)/ sqrt(1 + 4 + 9 + 16)*sqrt(1 + 0 + 9 + 0) = 0.57735"
   ]
  },
  {
   "cell_type": "code",
   "execution_count": 9,
   "metadata": {},
   "outputs": [
    {
     "data": {
      "text/plain": [
       "np.float64(0.5773502691896257)"
      ]
     },
     "execution_count": 9,
     "metadata": {},
     "output_type": "execute_result"
    }
   ],
   "source": [
    "def compute_consine(x, y):\n",
    "    result = np.dot(x, y) / (np.linalg.norm(x) * np.linalg.norm(y))\n",
    "    return result\n",
    "\n",
    "x = np.array([1, 2, 3, 4])\n",
    "y = np.array([1, 0 ,3, 0])\n",
    "compute_consine(x, y)"
   ]
  }
 ],
 "metadata": {
  "kernelspec": {
   "display_name": "Python 3",
   "language": "python",
   "name": "python3"
  },
  "language_info": {
   "codemirror_mode": {
    "name": "ipython",
    "version": 3
   },
   "file_extension": ".py",
   "mimetype": "text/x-python",
   "name": "python",
   "nbconvert_exporter": "python",
   "pygments_lexer": "ipython3",
   "version": "3.13.1"
  }
 },
 "nbformat": 4,
 "nbformat_minor": 2
}
