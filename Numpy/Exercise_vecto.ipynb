{
 "cells": [
  {
   "cell_type": "markdown",
   "metadata": {},
   "source": [
    "Bài tập 1: \n",
    "a) HOàn thành hàm tính độ dài vecto"
   ]
  },
  {
   "cell_type": "code",
   "execution_count": 2,
   "metadata": {},
   "outputs": [
    {
     "name": "stdout",
     "output_type": "stream",
     "text": [
      "6.708203932499369\n"
     ]
    }
   ],
   "source": [
    "import numpy as np\n",
    "\n",
    "def compute_vecto_len(vector):\n",
    "    len_of_vecto =  np.sqrt(np.sum(np.square(vector)))\n",
    "    return len_of_vecto\n",
    "\n",
    "vecto = np.array([3, 6])\n",
    "print(compute_vecto_len(vecto))"
   ]
  },
  {
   "cell_type": "markdown",
   "metadata": {},
   "source": [
    "b) Phép tính tích vô hướng - Dot product"
   ]
  },
  {
   "cell_type": "code",
   "execution_count": 5,
   "metadata": {},
   "outputs": [
    {
     "name": "stdout",
     "output_type": "stream",
     "text": [
      "32\n"
     ]
    }
   ],
   "source": [
    "import numpy as np\n",
    "\n",
    "def dot_product(a, b):\n",
    "    result = np.sum(a * b)\n",
    "    return result\n",
    "\n",
    "a = np.array([1, 2, 3])\n",
    "b = np.array([4, 5, 6])\n",
    "\n",
    "print(dot_product(a, b))"
   ]
  },
  {
   "cell_type": "markdown",
   "metadata": {},
   "source": [
    "c) Nhân vecto với ma trận"
   ]
  },
  {
   "cell_type": "code",
   "execution_count": 10,
   "metadata": {},
   "outputs": [
    {
     "name": "stdout",
     "output_type": "stream",
     "text": [
      "[28 64 88]\n"
     ]
    }
   ],
   "source": [
    "import numpy as np\n",
    "\n",
    "def matrix_multi_vecto(matrix, vector):\n",
    "    result = np.dot(matrix, vector)\n",
    "    return result\n",
    "\n",
    "matrix = np.array([[1, 2, 3], [3, 4, 7], [5, 6, 9]])\n",
    "vector = np.array([2, \n",
    "                   4,\n",
    "                   6])\n",
    "\n",
    "print(matrix_multi_vecto(matrix, vector))"
   ]
  },
  {
   "cell_type": "markdown",
   "metadata": {},
   "source": [
    "d) Nhân ma trận với ma trận"
   ]
  },
  {
   "cell_type": "code",
   "execution_count": 11,
   "metadata": {},
   "outputs": [
    {
     "name": "stdout",
     "output_type": "stream",
     "text": [
      "[[ 25  34  43]\n",
      " [ 59  80 101]\n",
      " [ 79 110 141]]\n"
     ]
    }
   ],
   "source": [
    "import numpy as np\n",
    "\n",
    "def matrix_multi_matrix(a, b):\n",
    "    result = np.dot(a, b)\n",
    "    return result\n",
    "\n",
    "a = np.array([[1, 2, 3], [3, 4, 7], [5, 6, 9]])\n",
    "b = np.array([[2, 4, 6], [1, 3, 5], [7, 8, 9]])\n",
    "print(matrix_multi_matrix(a, b))"
   ]
  },
  {
   "cell_type": "markdown",
   "metadata": {},
   "source": [
    "e) Ma trận nghịch đảo\n",
    "Bt:\n",
    "Cho trước A = [ -2 6 ][8 -4]\n",
    "Determinant A = -2*-2 -6*8 = -40\n",
    "inverser A^-1 = 1/-40 * [-4 -6][-8 -2] = [1/10  3/20][1/5  1/20] "
   ]
  },
  {
   "cell_type": "code",
   "execution_count": 12,
   "metadata": {},
   "outputs": [
    {
     "name": "stdout",
     "output_type": "stream",
     "text": [
      "[[0.1  0.15]\n",
      " [0.2  0.05]]\n"
     ]
    }
   ],
   "source": [
    "def inverse_matrix(a):\n",
    "    result = np.linalg.inv(a)\n",
    "    return result\n",
    "\n",
    "a = np.array([[-2, 6], [8, -4]])\n",
    "print(inverse_matrix(a))"
   ]
  },
  {
   "cell_type": "markdown",
   "metadata": {},
   "source": []
  }
 ],
 "metadata": {
  "kernelspec": {
   "display_name": "Python 3",
   "language": "python",
   "name": "python3"
  },
  "language_info": {
   "codemirror_mode": {
    "name": "ipython",
    "version": 3
   },
   "file_extension": ".py",
   "mimetype": "text/x-python",
   "name": "python",
   "nbconvert_exporter": "python",
   "pygments_lexer": "ipython3",
   "version": "3.13.1"
  }
 },
 "nbformat": 4,
 "nbformat_minor": 2
}
