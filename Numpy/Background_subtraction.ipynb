{
 "cells": [
  {
   "cell_type": "markdown",
   "metadata": {},
   "source": [
    "a) Đưa vào và rezise về cùng kích thướcthước"
   ]
  },
  {
   "cell_type": "code",
   "execution_count": 8,
   "metadata": {},
   "outputs": [],
   "source": [
    "import numpy as np\n",
    "import cv2\n",
    "import os\n",
    "\n",
    "bg1_image = cv2.imread('Img/Backgroud Image.png', 1)\n",
    "\n",
    "bg1_image = cv2.resize(bg1_image, (678, 381))\n",
    "\n",
    "ob_image = cv2.imread('Img/Object Image.jpg', 1)\n",
    "ob_image = cv2.resize(ob_image, (678, 381))\n",
    "\n",
    "bg2_image = cv2.imread('Img/Target Background Image.jpg', 1)\n",
    "bg2_image = cv2.resize(bg2_image, (678, 381))\n",
    "\n"
   ]
  },
  {
   "cell_type": "markdown",
   "metadata": {},
   "source": [
    "b) xây dựng hàm compute_difference(): tính sự khác biết giữa ảnh nền và ảnh object "
   ]
  },
  {
   "cell_type": "code",
   "execution_count": 33,
   "metadata": {},
   "outputs": [],
   "source": [
    "def compute_difference ( bg_img , input_img ):\n",
    "    \n",
    "    difference_single_channel = cv2.absdiff(bg_img, input_img)\n",
    "\n",
    "    #Chuyển ảnh về ảnh xám\n",
    "    difference_single_channel_gray = cv2.cvtColor(difference_single_channel, cv2.COLOR_BGR2GRAY)\n",
    "\n",
    "    return difference_single_channel_gray\n",
    "\n",
    "different_single_channel = compute_difference(bg1_image, ob_image)\n"
   ]
  },
  {
   "cell_type": "code",
   "execution_count": 34,
   "metadata": {},
   "outputs": [],
   "source": [
    "cv2.imshow('Image',different_single_channel)\n",
    "# Đảm bảo cửa sổ hiển thị ảnh không đóng ngay lập tức\n",
    "cv2.waitKey(0)  # Đợi cho đến khi nhấn phím bất kỳ\n",
    "cv2.destroyAllWindows()  # Đóng cửa sổ sau khi nhấn phím"
   ]
  },
  {
   "cell_type": "markdown",
   "metadata": {},
   "source": [
    "c) Xây dựng hàm compute_binary_mask(): "
   ]
  },
  {
   "cell_type": "code",
   "execution_count": 39,
   "metadata": {},
   "outputs": [
    {
     "name": "stdout",
     "output_type": "stream",
     "text": [
      "(381, 678)\n",
      "uint8\n"
     ]
    }
   ],
   "source": [
    "def compute_binary_mask(difference_single_channel_gray):\n",
    "    # Chuyển ảnh về ảnh nhị phân\n",
    "    ret, binary_mask = cv2.threshold(difference_single_channel_gray, 50, 255, cv2.THRESH_BINARY)\n",
    "    \n",
    "    return binary_mask\n",
    "\n",
    "binary_mask = compute_binary_mask(different_single_channel)\n",
    "print(binary_mask.shape)\n",
    "print(binary_mask.dtype)\n"
   ]
  },
  {
   "cell_type": "code",
   "execution_count": 40,
   "metadata": {},
   "outputs": [],
   "source": [
    "cv2.imshow('Image',binary_mask)\n",
    "# Đảm bảo cửa sổ hiển thị ảnh không đóng ngay lập tức\n",
    "cv2.waitKey(0)  # Đợi cho đến khi nhấn phím bất kỳ\n",
    "cv2.destroyAllWindows()  # Đóng cửa sổ sau khi nhấn phím"
   ]
  },
  {
   "cell_type": "markdown",
   "metadata": {},
   "source": [
    "d) Xây dựng hàm replace_background():"
   ]
  },
  {
   "cell_type": "code",
   "execution_count": 42,
   "metadata": {},
   "outputs": [],
   "source": [
    "def replace_background ( bg1_image , bg2_image , ob_image ):\n",
    "\n",
    "    #Tính độ khác biệtbiệt\n",
    "    difference_single_channel = compute_difference (\n",
    "    bg1_image ,\n",
    "    ob_image\n",
    "    )\n",
    "\n",
    "    #Chuyển thành nhị phân\n",
    "    binary_mask = compute_binary_mask ( difference_single_channel )\n",
    "\n",
    "    # Thêm một chiều vào binary_mask để nó có cùng hình dạng với ảnh màu\n",
    "    binary_mask = np.expand_dims(binary_mask, axis=-1)\n",
    "    \n",
    "    #Thay đổi ảnh nền: ghi đè ảnh  lên điểm khác biệt \n",
    "    output = np. where ( binary_mask ==255 , ob_image , bg2_image )\n",
    "\n",
    "    return output\n",
    "\n",
    "output = replace_background ( bg1_image , bg2_image , ob_image )"
   ]
  },
  {
   "cell_type": "code",
   "execution_count": 43,
   "metadata": {},
   "outputs": [],
   "source": [
    "cv2.imshow('Image',output)\n",
    "# Đảm bảo cửa sổ hiển thị ảnh không đóng ngay lập tức\n",
    "cv2.waitKey(0)  # Đợi cho đến khi nhấn phím bất kỳ\n",
    "cv2.destroyAllWindows()  # Đóng cửa sổ sau khi nhấn phím"
   ]
  }
 ],
 "metadata": {
  "kernelspec": {
   "display_name": "Python 3",
   "language": "python",
   "name": "python3"
  },
  "language_info": {
   "codemirror_mode": {
    "name": "ipython",
    "version": 3
   },
   "file_extension": ".py",
   "mimetype": "text/x-python",
   "name": "python",
   "nbconvert_exporter": "python",
   "pygments_lexer": "ipython3",
   "version": "3.10.11"
  }
 },
 "nbformat": 4,
 "nbformat_minor": 2
}
